{
 "cells": [
  {
   "cell_type": "code",
   "execution_count": 1,
   "id": "2763841a-0549-4feb-a777-56ae45240f19",
   "metadata": {},
   "outputs": [],
   "source": [
    "import openai"
   ]
  },
  {
   "cell_type": "markdown",
   "id": "fead9be3-8328-4121-8685-82cca61eff67",
   "metadata": {},
   "source": [
    "- For specific conda, to create kernel. `python -m ipykernel install --user --name=qa-pgvector`\n",
    "- https://medium.com/@nrk25693/how-to-add-your-conda-environment-to-your-jupyter-notebook-in-just-4-steps-abeab8b8d084"
   ]
  },
  {
   "cell_type": "code",
   "execution_count": null,
   "id": "61e481e3-fd0b-469b-b277-5a14c593da8f",
   "metadata": {},
   "outputs": [],
   "source": []
  }
 ],
 "metadata": {
  "kernelspec": {
   "display_name": "qa-pgvector",
   "language": "python",
   "name": "qa-pgvector"
  },
  "language_info": {
   "codemirror_mode": {
    "name": "ipython",
    "version": 3
   },
   "file_extension": ".py",
   "mimetype": "text/x-python",
   "name": "python",
   "nbconvert_exporter": "python",
   "pygments_lexer": "ipython3",
   "version": "3.10.13"
  }
 },
 "nbformat": 4,
 "nbformat_minor": 5
}
